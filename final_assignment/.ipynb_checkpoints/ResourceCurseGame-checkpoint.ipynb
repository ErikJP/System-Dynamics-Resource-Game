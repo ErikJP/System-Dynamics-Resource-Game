{
 "cells": [
  {
   "cell_type": "markdown",
   "metadata": {},
   "source": [
    "# Resource Curse Interactive Modelling\n",
    "##### EPA1341  |  Advanced System Dynamics\n",
    "##### Erik Pronk  |  Philip Seijger  |  Irene van Droffelaar  |  Daan van Beek"
   ]
  },
  {
   "cell_type": "markdown",
   "metadata": {},
   "source": [
    "### 0. About the game\n",
    "#### 0.1. Running the game\n",
    "    1. Run all cells in order\n",
    "    2. A popup window will appear\n",
    "        - If the popup window does not automatically appear, check your taskbar for a window with an 'R' or 'Python' logo\n",
    "    3. You are now ready to play the game!\n",
    "#### 0.2. Rules of the game\n",
    "The rules will be explained in the game, but the goal is to set your policies such that your country prospers. You will measure prosperity with your KPIs. "
   ]
  },
  {
   "cell_type": "markdown",
   "metadata": {},
   "source": [
    "### 1. Installing packages\n",
    "Install packages in whichever method is convenient. The following cell will install in Jupyter notebook. Make sure that you can import all the packages below.\n",
    "\n",
    "Packages required:\n",
    "    1. PySimpleGUI\n",
    "    2. pysd\n",
    "    3. pandas\n",
    "    4. matplotlib\n",
    "    5. numpy as np\n",
    "    6. os\n",
    "    7. time"
   ]
  },
  {
   "cell_type": "code",
   "execution_count": null,
   "metadata": {},
   "outputs": [],
   "source": [
    "# import sys\n",
    "# !{sys.executable} -m pip install PySimpleGUI"
   ]
  },
  {
   "cell_type": "markdown",
   "metadata": {},
   "source": [
    "### 2. Import packages\n",
    "The resourceGame.py file contains the code that makes and runs the game. All necessary package imports are included here."
   ]
  },
  {
   "cell_type": "code",
   "execution_count": null,
   "metadata": {},
   "outputs": [],
   "source": [
    "from resourceGame import runGame"
   ]
  },
  {
   "cell_type": "markdown",
   "metadata": {},
   "source": [
    "### 3. Run the game"
   ]
  },
  {
   "cell_type": "code",
   "execution_count": null,
   "metadata": {},
   "outputs": [],
   "source": [
    "if __name__ == \"__main__\":\n",
    "    runGame()"
   ]
  }
 ],
 "metadata": {
  "kernelspec": {
   "display_name": "Python 3",
   "language": "python",
   "name": "python3"
  },
  "language_info": {
   "codemirror_mode": {
    "name": "ipython",
    "version": 3
   },
   "file_extension": ".py",
   "mimetype": "text/x-python",
   "name": "python",
   "nbconvert_exporter": "python",
   "pygments_lexer": "ipython3",
   "version": "3.6.5"
  }
 },
 "nbformat": 4,
 "nbformat_minor": 2
}
